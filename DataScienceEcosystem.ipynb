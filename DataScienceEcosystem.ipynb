{
 "cells": [
  {
   "cell_type": "markdown",
   "id": "0e2c5ca2-25c3-4a19-bc06-a10baeaf1d91",
   "metadata": {},
   "source": [
    "# Data Science Tools and Ecosystems"
   ]
  },
  {
   "cell_type": "markdown",
   "id": "b28a1142-df14-4fda-aba7-433540b3946f",
   "metadata": {},
   "source": [
    "In this notebook, Data Science Tools and Ecosystem are summarized."
   ]
  },
  {
   "cell_type": "markdown",
   "id": "20bfc306-ef8f-40fa-b991-ee4edd7fd8c1",
   "metadata": {},
   "source": [
    "Some of the popular languages that Data Scientists use are:\n",
    "1. Python\n",
    "2. R\n",
    "3. SQL\n",
    "4. Java Etc..\n",
    "5. C++"
   ]
  },
  {
   "cell_type": "markdown",
   "id": "ffa20b37-3e36-4aac-bb32-27e2009797e4",
   "metadata": {},
   "source": [
    "Some of the commonly used libraries used by Data Scientists include:\n",
    "1. TensorFlow\n",
    "2. NumPy\n",
    "3. SciPy \n",
    "4. Pandas\n",
    "5. Matplotlib\n",
    "6. SciKit-Learn\n",
    "8. Pytorch Etc.."
   ]
  },
  {
   "cell_type": "markdown",
   "id": "008e1155-8cd7-488e-9524-4716a4a92f3a",
   "metadata": {},
   "source": [
    "|Data Science Tools|\n",
    "|---|\n",
    "|SAS|\n",
    "|Apache Hadoop|\n",
    "|TensorFlow|"
   ]
  },
  {
   "cell_type": "markdown",
   "id": "56f8adda-481c-467d-ace5-3c6f4e87069b",
   "metadata": {},
   "source": [
    "### Below are a few examples of evaluating arithmetic expressions in Python"
   ]
  },
  {
   "cell_type": "code",
   "execution_count": 7,
   "id": "c02e691c-6a34-47fb-99ed-8e78aeb54d27",
   "metadata": {},
   "outputs": [
    {
     "data": {
      "text/plain": [
       "17"
      ]
     },
     "execution_count": 7,
     "metadata": {},
     "output_type": "execute_result"
    }
   ],
   "source": [
    "#this is a common arithmetic example to multiply and then add integers\n",
    "(3*4)+5"
   ]
  },
  {
   "cell_type": "code",
   "execution_count": 6,
   "id": "bda62fa2-9b57-4fa8-a5a1-9c69e1a58904",
   "metadata": {},
   "outputs": [
    {
     "data": {
      "text/plain": [
       "3.3333333333333335"
      ]
     },
     "execution_count": 6,
     "metadata": {},
     "output_type": "execute_result"
    }
   ],
   "source": [
    "#This will convert 200 minutes to hours by dividing by 60\n",
    "200/60"
   ]
  },
  {
   "cell_type": "markdown",
   "id": "61674c31-6536-478b-92c8-6ca1ed3ab0d5",
   "metadata": {},
   "source": [
    "__**Objective**__\n",
    "* List popular languages for Data science\n",
    "* List popular libraries for Data science Tools\n",
    "* List of well known Data Science tools\n",
    "* How to provide comments in the cell"
   ]
  },
  {
   "cell_type": "markdown",
   "id": "79969ba5-00d4-4869-bc5a-aee2f93ca009",
   "metadata": {},
   "source": [
    "## **Author**"
   ]
  },
  {
   "cell_type": "markdown",
   "id": "e99f780a-edb0-4606-83cf-c1e4aa364a43",
   "metadata": {},
   "source": [
    "Zain Gilani"
   ]
  }
 ],
 "metadata": {
  "kernelspec": {
   "display_name": "Python 3 (ipykernel)",
   "language": "python",
   "name": "python3"
  },
  "language_info": {
   "codemirror_mode": {
    "name": "ipython",
    "version": 3
   },
   "file_extension": ".py",
   "mimetype": "text/x-python",
   "name": "python",
   "nbconvert_exporter": "python",
   "pygments_lexer": "ipython3",
   "version": "3.12.8"
  }
 },
 "nbformat": 4,
 "nbformat_minor": 5
}
